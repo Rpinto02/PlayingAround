{
 "cells": [
  {
   "cell_type": "markdown",
   "metadata": {},
   "source": [
    "Importing the dataset and libraries."
   ]
  },
  {
   "cell_type": "code",
   "execution_count": 1,
   "metadata": {},
   "outputs": [],
   "source": [
    "import pandas as pd\n",
    "\n",
    "\n",
    "events = pd.read_csv('Data/sedec_tipo_ocorrencias.csv',sep=';')"
   ]
  },
  {
   "cell_type": "markdown",
   "metadata": {},
   "source": [
    "Taking a look at the dataset."
   ]
  },
  {
   "cell_type": "code",
   "execution_count": 2,
   "metadata": {},
   "outputs": [
    {
     "name": "stdout",
     "output_type": "stream",
     "text": [
      "<class 'pandas.core.frame.DataFrame'>\n",
      "RangeIndex: 31622 entries, 0 to 31621\n",
      "Data columns (total 2 columns):\n",
      "processo_numero        31622 non-null int64\n",
      "processo_ocorrencia    31622 non-null object\n",
      "dtypes: int64(1), object(1)\n",
      "memory usage: 370.6+ KB\n"
     ]
    }
   ],
   "source": [
    "events.info()"
   ]
  },
  {
   "cell_type": "code",
   "execution_count": 3,
   "metadata": {},
   "outputs": [
    {
     "data": {
      "text/html": [
       "<div>\n",
       "<style scoped>\n",
       "    .dataframe tbody tr th:only-of-type {\n",
       "        vertical-align: middle;\n",
       "    }\n",
       "\n",
       "    .dataframe tbody tr th {\n",
       "        vertical-align: top;\n",
       "    }\n",
       "\n",
       "    .dataframe thead th {\n",
       "        text-align: right;\n",
       "    }\n",
       "</style>\n",
       "<table border=\"1\" class=\"dataframe\">\n",
       "  <thead>\n",
       "    <tr style=\"text-align: right;\">\n",
       "      <th></th>\n",
       "      <th>processo_numero</th>\n",
       "      <th>processo_ocorrencia</th>\n",
       "    </tr>\n",
       "  </thead>\n",
       "  <tbody>\n",
       "    <tr>\n",
       "      <th>0</th>\n",
       "      <td>8155845218</td>\n",
       "      <td>Não há Ocorrência para essa Solicitação</td>\n",
       "    </tr>\n",
       "    <tr>\n",
       "      <th>1</th>\n",
       "      <td>8155698018</td>\n",
       "      <td>Deslizamentos de Barreiras</td>\n",
       "    </tr>\n",
       "    <tr>\n",
       "      <th>2</th>\n",
       "      <td>8155361518</td>\n",
       "      <td>Invasao de Terreno de Auxilio Moradia</td>\n",
       "    </tr>\n",
       "    <tr>\n",
       "      <th>3</th>\n",
       "      <td>8155337718</td>\n",
       "      <td>Imoveis com Danos/Risco</td>\n",
       "    </tr>\n",
       "    <tr>\n",
       "      <th>4</th>\n",
       "      <td>8155296918</td>\n",
       "      <td>Não há Ocorrência para essa Solicitação</td>\n",
       "    </tr>\n",
       "  </tbody>\n",
       "</table>\n",
       "</div>"
      ],
      "text/plain": [
       "   processo_numero                      processo_ocorrencia\n",
       "0       8155845218  Não há Ocorrência para essa Solicitação\n",
       "1       8155698018               Deslizamentos de Barreiras\n",
       "2       8155361518    Invasao de Terreno de Auxilio Moradia\n",
       "3       8155337718                  Imoveis com Danos/Risco\n",
       "4       8155296918  Não há Ocorrência para essa Solicitação"
      ]
     },
     "execution_count": 3,
     "metadata": {},
     "output_type": "execute_result"
    }
   ],
   "source": [
    "events.head()"
   ]
  },
  {
   "cell_type": "code",
   "execution_count": 4,
   "metadata": {},
   "outputs": [
    {
     "data": {
      "text/plain": [
       "Não há Ocorrência para essa Solicitação               14857\n",
       "Deslizamentos de Barreiras                             6009\n",
       "Imoveis com Danos/Risco                                5320\n",
       "Arvores em Risco                                       2082\n",
       "Muro com Danos                                         1396\n",
       "Invasao de Terreno de Auxilio Moradia                   546\n",
       "Desabamento Parcial Imoveis                             377\n",
       "Tombamento de Arvores                                   263\n",
       "Imoveis Alagados                                        168\n",
       "Alagamentos                                             161\n",
       "Incendios                                               122\n",
       "Desabamento Total Imoveis                                94\n",
       "Desabamento Parcial de Obras de Contencao/Drenagem       58\n",
       "Postes em Risco                                          57\n",
       "Desabamento Total de Obras de Contencao/Drenagem         40\n",
       "Transbordamentos de Canais                               33\n",
       "Elevacao do Nivel do Rio                                 16\n",
       "Produtos Quimicos Perigosos                              14\n",
       "Tombamento de Postes                                      9\n",
       "Name: processo_ocorrencia, dtype: int64"
      ]
     },
     "execution_count": 4,
     "metadata": {},
     "output_type": "execute_result"
    }
   ],
   "source": [
    "events['processo_ocorrencia'].value_counts()"
   ]
  },
  {
   "cell_type": "markdown",
   "metadata": {},
   "source": [
    "Renaming the dataset for better understanding. This dataset relates to what happened on a given ID (the location and date will be given when we cross-reference the ID with the other datasets)."
   ]
  },
  {
   "cell_type": "code",
   "execution_count": 5,
   "metadata": {},
   "outputs": [],
   "source": [
    "events = events.rename(columns={'processo_numero':'ID','processo_ocorrencia':'event'})"
   ]
  },
  {
   "cell_type": "code",
   "execution_count": 6,
   "metadata": {},
   "outputs": [
    {
     "data": {
      "text/html": [
       "<div>\n",
       "<style scoped>\n",
       "    .dataframe tbody tr th:only-of-type {\n",
       "        vertical-align: middle;\n",
       "    }\n",
       "\n",
       "    .dataframe tbody tr th {\n",
       "        vertical-align: top;\n",
       "    }\n",
       "\n",
       "    .dataframe thead th {\n",
       "        text-align: right;\n",
       "    }\n",
       "</style>\n",
       "<table border=\"1\" class=\"dataframe\">\n",
       "  <thead>\n",
       "    <tr style=\"text-align: right;\">\n",
       "      <th></th>\n",
       "      <th>ID</th>\n",
       "      <th>event</th>\n",
       "    </tr>\n",
       "  </thead>\n",
       "  <tbody>\n",
       "    <tr>\n",
       "      <th>0</th>\n",
       "      <td>8155845218</td>\n",
       "      <td>Não há Ocorrência para essa Solicitação</td>\n",
       "    </tr>\n",
       "    <tr>\n",
       "      <th>1</th>\n",
       "      <td>8155698018</td>\n",
       "      <td>Deslizamentos de Barreiras</td>\n",
       "    </tr>\n",
       "    <tr>\n",
       "      <th>2</th>\n",
       "      <td>8155361518</td>\n",
       "      <td>Invasao de Terreno de Auxilio Moradia</td>\n",
       "    </tr>\n",
       "    <tr>\n",
       "      <th>3</th>\n",
       "      <td>8155337718</td>\n",
       "      <td>Imoveis com Danos/Risco</td>\n",
       "    </tr>\n",
       "    <tr>\n",
       "      <th>4</th>\n",
       "      <td>8155296918</td>\n",
       "      <td>Não há Ocorrência para essa Solicitação</td>\n",
       "    </tr>\n",
       "  </tbody>\n",
       "</table>\n",
       "</div>"
      ],
      "text/plain": [
       "           ID                                    event\n",
       "0  8155845218  Não há Ocorrência para essa Solicitação\n",
       "1  8155698018               Deslizamentos de Barreiras\n",
       "2  8155361518    Invasao de Terreno de Auxilio Moradia\n",
       "3  8155337718                  Imoveis com Danos/Risco\n",
       "4  8155296918  Não há Ocorrência para essa Solicitação"
      ]
     },
     "execution_count": 6,
     "metadata": {},
     "output_type": "execute_result"
    }
   ],
   "source": [
    "events.head()"
   ]
  },
  {
   "cell_type": "markdown",
   "metadata": {},
   "source": [
    "After a look at the event column, we detected that the information that we need is if sliding took place, so we'll isolate that keyword 'deslizamento'(sliding in portuguese) and transform into a 0, 1 column respectively."
   ]
  },
  {
   "cell_type": "code",
   "execution_count": 7,
   "metadata": {},
   "outputs": [
    {
     "data": {
      "text/html": [
       "<div>\n",
       "<style scoped>\n",
       "    .dataframe tbody tr th:only-of-type {\n",
       "        vertical-align: middle;\n",
       "    }\n",
       "\n",
       "    .dataframe tbody tr th {\n",
       "        vertical-align: top;\n",
       "    }\n",
       "\n",
       "    .dataframe thead th {\n",
       "        text-align: right;\n",
       "    }\n",
       "</style>\n",
       "<table border=\"1\" class=\"dataframe\">\n",
       "  <thead>\n",
       "    <tr style=\"text-align: right;\">\n",
       "      <th></th>\n",
       "      <th>ID</th>\n",
       "      <th>event</th>\n",
       "    </tr>\n",
       "  </thead>\n",
       "  <tbody>\n",
       "    <tr>\n",
       "      <th>0</th>\n",
       "      <td>8155845218</td>\n",
       "      <td>0</td>\n",
       "    </tr>\n",
       "    <tr>\n",
       "      <th>1</th>\n",
       "      <td>8155698018</td>\n",
       "      <td>1</td>\n",
       "    </tr>\n",
       "    <tr>\n",
       "      <th>2</th>\n",
       "      <td>8155361518</td>\n",
       "      <td>0</td>\n",
       "    </tr>\n",
       "    <tr>\n",
       "      <th>3</th>\n",
       "      <td>8155337718</td>\n",
       "      <td>0</td>\n",
       "    </tr>\n",
       "    <tr>\n",
       "      <th>4</th>\n",
       "      <td>8155296918</td>\n",
       "      <td>0</td>\n",
       "    </tr>\n",
       "  </tbody>\n",
       "</table>\n",
       "</div>"
      ],
      "text/plain": [
       "           ID  event\n",
       "0  8155845218      0\n",
       "1  8155698018      1\n",
       "2  8155361518      0\n",
       "3  8155337718      0\n",
       "4  8155296918      0"
      ]
     },
     "execution_count": 7,
     "metadata": {},
     "output_type": "execute_result"
    }
   ],
   "source": [
    "import re\n",
    "\n",
    "\n",
    "text = []\n",
    "for i in range(0, len(events['event'])):\n",
    "    review = re.sub('[^a-zA-Z]', ' ', events['event'][i])\n",
    "    review = review.lower()\n",
    "    review = review.split()\n",
    "    text.append(review)\n",
    "\n",
    "\n",
    "\n",
    "events['event'] = text\n",
    "events['event'] = [1 if 'deslizamentos' in event else 0 for event in events['event']]\n",
    "events.head()"
   ]
  },
  {
   "cell_type": "code",
   "execution_count": 8,
   "metadata": {},
   "outputs": [
    {
     "data": {
      "text/plain": [
       "0    25613\n",
       "1     6009\n",
       "Name: event, dtype: int64"
      ]
     },
     "execution_count": 8,
     "metadata": {},
     "output_type": "execute_result"
    }
   ],
   "source": [
    "events.event.value_counts()"
   ]
  },
  {
   "cell_type": "markdown",
   "metadata": {},
   "source": [
    "Finally there are some duplicate ID entries, so we'll drop the ones that might have 0 values in the event of a sliding."
   ]
  },
  {
   "cell_type": "code",
   "execution_count": 9,
   "metadata": {},
   "outputs": [],
   "source": [
    "events = events.sort_values('event', ascending=False).drop_duplicates('ID').sort_index()"
   ]
  },
  {
   "cell_type": "code",
   "execution_count": 10,
   "metadata": {},
   "outputs": [],
   "source": [
    "events.to_csv(path_or_buf='events_prepared.csv')"
   ]
  },
  {
   "cell_type": "code",
   "execution_count": null,
   "metadata": {},
   "outputs": [],
   "source": []
  }
 ],
 "metadata": {
  "kernelspec": {
   "display_name": "Python 3",
   "language": "python",
   "name": "python3"
  },
  "language_info": {
   "codemirror_mode": {
    "name": "ipython",
    "version": 3
   },
   "file_extension": ".py",
   "mimetype": "text/x-python",
   "name": "python",
   "nbconvert_exporter": "python",
   "pygments_lexer": "ipython3",
   "version": "3.7.4"
  }
 },
 "nbformat": 4,
 "nbformat_minor": 2
}
