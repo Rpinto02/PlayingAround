{
 "cells": [
  {
   "cell_type": "markdown",
   "metadata": {},
   "source": [
    "Importing the dataset and libraries."
   ]
  },
  {
   "cell_type": "code",
   "execution_count": 1,
   "metadata": {},
   "outputs": [],
   "source": [
    "import pandas as pd\n",
    "import numpy as np\n",
    "\n",
    "inspections = pd.read_csv('Data/sedec_vistorias.csv',sep=\";\")"
   ]
  },
  {
   "cell_type": "markdown",
   "metadata": {},
   "source": [
    "Taking a look at the dataset."
   ]
  },
  {
   "cell_type": "code",
   "execution_count": 2,
   "metadata": {},
   "outputs": [
    {
     "name": "stdout",
     "output_type": "stream",
     "text": [
      "<class 'pandas.core.frame.DataFrame'>\n",
      "RangeIndex: 15772 entries, 0 to 15771\n",
      "Data columns (total 10 columns):\n",
      "ano                      15772 non-null int64\n",
      "mes                      15772 non-null object\n",
      "avaliador                15772 non-null object\n",
      "vistoria_data            15505 non-null object\n",
      "vistoria_risco           15772 non-null object\n",
      "vistoria_localidade      15772 non-null object\n",
      "vistoria_rpa_codigo      15772 non-null object\n",
      "vistoria_microrregiao    15772 non-null object\n",
      "vistoria_setor           15772 non-null object\n",
      "processo_numero          15772 non-null int64\n",
      "dtypes: int64(2), object(8)\n",
      "memory usage: 739.4+ KB\n"
     ]
    }
   ],
   "source": [
    "inspections.info()"
   ]
  },
  {
   "cell_type": "code",
   "execution_count": 3,
   "metadata": {},
   "outputs": [
    {
     "data": {
      "text/html": [
       "<div>\n",
       "<style scoped>\n",
       "    .dataframe tbody tr th:only-of-type {\n",
       "        vertical-align: middle;\n",
       "    }\n",
       "\n",
       "    .dataframe tbody tr th {\n",
       "        vertical-align: top;\n",
       "    }\n",
       "\n",
       "    .dataframe thead th {\n",
       "        text-align: right;\n",
       "    }\n",
       "</style>\n",
       "<table border=\"1\" class=\"dataframe\">\n",
       "  <thead>\n",
       "    <tr style=\"text-align: right;\">\n",
       "      <th></th>\n",
       "      <th>ano</th>\n",
       "      <th>mes</th>\n",
       "      <th>avaliador</th>\n",
       "      <th>vistoria_data</th>\n",
       "      <th>vistoria_risco</th>\n",
       "      <th>vistoria_localidade</th>\n",
       "      <th>vistoria_rpa_codigo</th>\n",
       "      <th>vistoria_microrregiao</th>\n",
       "      <th>vistoria_setor</th>\n",
       "      <th>processo_numero</th>\n",
       "    </tr>\n",
       "  </thead>\n",
       "  <tbody>\n",
       "    <tr>\n",
       "      <th>0</th>\n",
       "      <td>2012</td>\n",
       "      <td>12-dezembro</td>\n",
       "      <td>Engenheiro - Área Morro</td>\n",
       "      <td>2012-12-13 14:34:07</td>\n",
       "      <td>R3 Alto</td>\n",
       "      <td>ALTO DA JAQUEIRA - Jordão</td>\n",
       "      <td>6</td>\n",
       "      <td>6.2</td>\n",
       "      <td>6-SUL</td>\n",
       "      <td>8008472812</td>\n",
       "    </tr>\n",
       "    <tr>\n",
       "      <th>1</th>\n",
       "      <td>2012</td>\n",
       "      <td>12-dezembro</td>\n",
       "      <td>Engenheiro - Área Morro</td>\n",
       "      <td>2012-12-20 11:59:13</td>\n",
       "      <td>R2 Médio</td>\n",
       "      <td>Jardim Teresópoles</td>\n",
       "      <td>4</td>\n",
       "      <td>4.3</td>\n",
       "      <td>4-NORDESTE</td>\n",
       "      <td>8008985512</td>\n",
       "    </tr>\n",
       "    <tr>\n",
       "      <th>2</th>\n",
       "      <td>2012</td>\n",
       "      <td>12-dezembro</td>\n",
       "      <td>Engenheiro - Área Morro</td>\n",
       "      <td>2012-12-21 14:51:29</td>\n",
       "      <td>R4 Muito Alto</td>\n",
       "      <td>UR-05</td>\n",
       "      <td>6</td>\n",
       "      <td>6.2</td>\n",
       "      <td>6-SUL</td>\n",
       "      <td>8008835312</td>\n",
       "    </tr>\n",
       "    <tr>\n",
       "      <th>3</th>\n",
       "      <td>2012</td>\n",
       "      <td>12-dezembro</td>\n",
       "      <td>Engenheiro - Área Morro</td>\n",
       "      <td>2012-12-28 10:09:20</td>\n",
       "      <td>R4 Muito Alto</td>\n",
       "      <td>ALTO DA BRASILEIRA</td>\n",
       "      <td>3</td>\n",
       "      <td>3.3</td>\n",
       "      <td>3-NOROESTE</td>\n",
       "      <td>8006628012</td>\n",
       "    </tr>\n",
       "    <tr>\n",
       "      <th>4</th>\n",
       "      <td>2012</td>\n",
       "      <td>12-dezembro</td>\n",
       "      <td>Engenheiro - Área Morro</td>\n",
       "      <td>2012-12-13 10:50:13</td>\n",
       "      <td>Não informado</td>\n",
       "      <td>UR-02</td>\n",
       "      <td>6</td>\n",
       "      <td>6.2</td>\n",
       "      <td>6-SUL</td>\n",
       "      <td>8008455612</td>\n",
       "    </tr>\n",
       "  </tbody>\n",
       "</table>\n",
       "</div>"
      ],
      "text/plain": [
       "    ano          mes                avaliador        vistoria_data  \\\n",
       "0  2012  12-dezembro  Engenheiro - Área Morro  2012-12-13 14:34:07   \n",
       "1  2012  12-dezembro  Engenheiro - Área Morro  2012-12-20 11:59:13   \n",
       "2  2012  12-dezembro  Engenheiro - Área Morro  2012-12-21 14:51:29   \n",
       "3  2012  12-dezembro  Engenheiro - Área Morro  2012-12-28 10:09:20   \n",
       "4  2012  12-dezembro  Engenheiro - Área Morro  2012-12-13 10:50:13   \n",
       "\n",
       "  vistoria_risco        vistoria_localidade vistoria_rpa_codigo  \\\n",
       "0        R3 Alto  ALTO DA JAQUEIRA - Jordão                   6   \n",
       "1       R2 Médio         Jardim Teresópoles                   4   \n",
       "2  R4 Muito Alto                      UR-05                   6   \n",
       "3  R4 Muito Alto         ALTO DA BRASILEIRA                   3   \n",
       "4  Não informado                      UR-02                   6   \n",
       "\n",
       "  vistoria_microrregiao vistoria_setor  processo_numero  \n",
       "0                   6.2          6-SUL       8008472812  \n",
       "1                   4.3     4-NORDESTE       8008985512  \n",
       "2                   6.2          6-SUL       8008835312  \n",
       "3                   3.3     3-NOROESTE       8006628012  \n",
       "4                   6.2          6-SUL       8008455612  "
      ]
     },
     "execution_count": 3,
     "metadata": {},
     "output_type": "execute_result"
    }
   ],
   "source": [
    "inspections.head()"
   ]
  },
  {
   "cell_type": "code",
   "execution_count": 4,
   "metadata": {},
   "outputs": [
    {
     "data": {
      "text/plain": [
       "Não informado    7757\n",
       "R3 Alto          4770\n",
       "R2 Médio         1899\n",
       "R4 Muito Alto    1022\n",
       "R1 Baixo          324\n",
       "Name: vistoria_risco, dtype: int64"
      ]
     },
     "execution_count": 4,
     "metadata": {},
     "output_type": "execute_result"
    }
   ],
   "source": [
    "inspections['vistoria_risco'].value_counts()"
   ]
  },
  {
   "cell_type": "code",
   "execution_count": 5,
   "metadata": {},
   "outputs": [
    {
     "data": {
      "text/plain": [
       "Não informada             6069\n",
       "LAGOA ENCANTADA            691\n",
       "JD. MONTE VERDE            283\n",
       "UR 07                      229\n",
       "JORDAO ALTO                208\n",
       "                          ... \n",
       "ALTO NSª SRª DE FATIMA       1\n",
       "CORREGO DA IMBAUBA           1\n",
       "CGO SAO DOMINGOS SAVIO       1\n",
       "ILCA MACHADO                 1\n",
       "ur-03                        1\n",
       "Name: vistoria_localidade, Length: 1217, dtype: int64"
      ]
     },
     "execution_count": 5,
     "metadata": {},
     "output_type": "execute_result"
    }
   ],
   "source": [
    "inspections['vistoria_localidade'].value_counts()"
   ]
  },
  {
   "cell_type": "code",
   "execution_count": 6,
   "metadata": {},
   "outputs": [
    {
     "data": {
      "text/plain": [
       "2013    6983\n",
       "2012    2818\n",
       "2014    1967\n",
       "2015    1183\n",
       "2017     779\n",
       "2016     682\n",
       "2018     667\n",
       "2019     426\n",
       "0        267\n",
       "Name: ano, dtype: int64"
      ]
     },
     "execution_count": 6,
     "metadata": {},
     "output_type": "execute_result"
    }
   ],
   "source": [
    "inspections['ano'].value_counts()"
   ]
  },
  {
   "cell_type": "markdown",
   "metadata": {},
   "source": [
    "We are going to drop all the columns that don't relate to the info that we need, all of these relate to the inspection process and log so these features aren't related to slidings. Additionally, we are dropping the date and locations columns since we'll be extracting these values from a different dataset when cross-referencing the ID."
   ]
  },
  {
   "cell_type": "code",
   "execution_count": 7,
   "metadata": {},
   "outputs": [],
   "source": [
    "inspections = inspections.drop(columns=['ano','mes','vistoria_data','avaliador',\n",
    "                        'vistoria_localidade','vistoria_rpa_codigo','vistoria_setor',\n",
    "                        'vistoria_microrregiao'],axis=1)"
   ]
  },
  {
   "cell_type": "code",
   "execution_count": 8,
   "metadata": {},
   "outputs": [
    {
     "data": {
      "text/html": [
       "<div>\n",
       "<style scoped>\n",
       "    .dataframe tbody tr th:only-of-type {\n",
       "        vertical-align: middle;\n",
       "    }\n",
       "\n",
       "    .dataframe tbody tr th {\n",
       "        vertical-align: top;\n",
       "    }\n",
       "\n",
       "    .dataframe thead th {\n",
       "        text-align: right;\n",
       "    }\n",
       "</style>\n",
       "<table border=\"1\" class=\"dataframe\">\n",
       "  <thead>\n",
       "    <tr style=\"text-align: right;\">\n",
       "      <th></th>\n",
       "      <th>vistoria_risco</th>\n",
       "      <th>processo_numero</th>\n",
       "    </tr>\n",
       "  </thead>\n",
       "  <tbody>\n",
       "    <tr>\n",
       "      <th>0</th>\n",
       "      <td>R3 Alto</td>\n",
       "      <td>8008472812</td>\n",
       "    </tr>\n",
       "    <tr>\n",
       "      <th>1</th>\n",
       "      <td>R2 Médio</td>\n",
       "      <td>8008985512</td>\n",
       "    </tr>\n",
       "    <tr>\n",
       "      <th>2</th>\n",
       "      <td>R4 Muito Alto</td>\n",
       "      <td>8008835312</td>\n",
       "    </tr>\n",
       "    <tr>\n",
       "      <th>3</th>\n",
       "      <td>R4 Muito Alto</td>\n",
       "      <td>8006628012</td>\n",
       "    </tr>\n",
       "    <tr>\n",
       "      <th>4</th>\n",
       "      <td>Não informado</td>\n",
       "      <td>8008455612</td>\n",
       "    </tr>\n",
       "  </tbody>\n",
       "</table>\n",
       "</div>"
      ],
      "text/plain": [
       "  vistoria_risco  processo_numero\n",
       "0        R3 Alto       8008472812\n",
       "1       R2 Médio       8008985512\n",
       "2  R4 Muito Alto       8008835312\n",
       "3  R4 Muito Alto       8006628012\n",
       "4  Não informado       8008455612"
      ]
     },
     "execution_count": 8,
     "metadata": {},
     "output_type": "execute_result"
    }
   ],
   "source": [
    "inspections.head()"
   ]
  },
  {
   "cell_type": "markdown",
   "metadata": {},
   "source": [
    "Renaming the dataset for better understanding. This dataset relates to an inspection conducted on that place, the feature that relates to our problem is the risk evaluated by the inspector at the scene."
   ]
  },
  {
   "cell_type": "code",
   "execution_count": 9,
   "metadata": {},
   "outputs": [
    {
     "data": {
      "text/html": [
       "<div>\n",
       "<style scoped>\n",
       "    .dataframe tbody tr th:only-of-type {\n",
       "        vertical-align: middle;\n",
       "    }\n",
       "\n",
       "    .dataframe tbody tr th {\n",
       "        vertical-align: top;\n",
       "    }\n",
       "\n",
       "    .dataframe thead th {\n",
       "        text-align: right;\n",
       "    }\n",
       "</style>\n",
       "<table border=\"1\" class=\"dataframe\">\n",
       "  <thead>\n",
       "    <tr style=\"text-align: right;\">\n",
       "      <th></th>\n",
       "      <th>risk</th>\n",
       "      <th>ID</th>\n",
       "    </tr>\n",
       "  </thead>\n",
       "  <tbody>\n",
       "    <tr>\n",
       "      <th>0</th>\n",
       "      <td>R3 Alto</td>\n",
       "      <td>8008472812</td>\n",
       "    </tr>\n",
       "    <tr>\n",
       "      <th>1</th>\n",
       "      <td>R2 Médio</td>\n",
       "      <td>8008985512</td>\n",
       "    </tr>\n",
       "    <tr>\n",
       "      <th>2</th>\n",
       "      <td>R4 Muito Alto</td>\n",
       "      <td>8008835312</td>\n",
       "    </tr>\n",
       "    <tr>\n",
       "      <th>3</th>\n",
       "      <td>R4 Muito Alto</td>\n",
       "      <td>8006628012</td>\n",
       "    </tr>\n",
       "    <tr>\n",
       "      <th>4</th>\n",
       "      <td>Não informado</td>\n",
       "      <td>8008455612</td>\n",
       "    </tr>\n",
       "  </tbody>\n",
       "</table>\n",
       "</div>"
      ],
      "text/plain": [
       "            risk          ID\n",
       "0        R3 Alto  8008472812\n",
       "1       R2 Médio  8008985512\n",
       "2  R4 Muito Alto  8008835312\n",
       "3  R4 Muito Alto  8006628012\n",
       "4  Não informado  8008455612"
      ]
     },
     "execution_count": 9,
     "metadata": {},
     "output_type": "execute_result"
    }
   ],
   "source": [
    "inspections = inspections.rename(columns={'vistoria_risco':'risk','processo_numero':'ID'})\n",
    "inspections.head()"
   ]
  },
  {
   "cell_type": "markdown",
   "metadata": {},
   "source": [
    "We will transform the risk column into:\n",
    "4- Very High risk.\n",
    "3- High.\n",
    "2- Medium.\n",
    "1- Low.\n",
    "0- Not informed."
   ]
  },
  {
   "cell_type": "code",
   "execution_count": 10,
   "metadata": {},
   "outputs": [
    {
     "data": {
      "text/html": [
       "<div>\n",
       "<style scoped>\n",
       "    .dataframe tbody tr th:only-of-type {\n",
       "        vertical-align: middle;\n",
       "    }\n",
       "\n",
       "    .dataframe tbody tr th {\n",
       "        vertical-align: top;\n",
       "    }\n",
       "\n",
       "    .dataframe thead th {\n",
       "        text-align: right;\n",
       "    }\n",
       "</style>\n",
       "<table border=\"1\" class=\"dataframe\">\n",
       "  <thead>\n",
       "    <tr style=\"text-align: right;\">\n",
       "      <th></th>\n",
       "      <th>risk</th>\n",
       "      <th>ID</th>\n",
       "    </tr>\n",
       "  </thead>\n",
       "  <tbody>\n",
       "    <tr>\n",
       "      <th>0</th>\n",
       "      <td>3</td>\n",
       "      <td>8008472812</td>\n",
       "    </tr>\n",
       "    <tr>\n",
       "      <th>1</th>\n",
       "      <td>2</td>\n",
       "      <td>8008985512</td>\n",
       "    </tr>\n",
       "    <tr>\n",
       "      <th>2</th>\n",
       "      <td>4</td>\n",
       "      <td>8008835312</td>\n",
       "    </tr>\n",
       "    <tr>\n",
       "      <th>3</th>\n",
       "      <td>4</td>\n",
       "      <td>8006628012</td>\n",
       "    </tr>\n",
       "    <tr>\n",
       "      <th>4</th>\n",
       "      <td>0</td>\n",
       "      <td>8008455612</td>\n",
       "    </tr>\n",
       "  </tbody>\n",
       "</table>\n",
       "</div>"
      ],
      "text/plain": [
       "   risk          ID\n",
       "0     3  8008472812\n",
       "1     2  8008985512\n",
       "2     4  8008835312\n",
       "3     4  8006628012\n",
       "4     0  8008455612"
      ]
     },
     "execution_count": 10,
     "metadata": {},
     "output_type": "execute_result"
    }
   ],
   "source": [
    "mapping = {'Não informado': 0, 'R1 Baixo': 1,'R2 Médio': 2,'R3 Alto': 3,'R4 Muito Alto': 4 }\n",
    "\n",
    "inspections = inspections.applymap(lambda s: mapping.get(s) if s in mapping else s)\n",
    "inspections.head()"
   ]
  },
  {
   "cell_type": "markdown",
   "metadata": {},
   "source": [
    "Finally there are some duplicate ID entries, so we'll drop the ones that might have 0 values for risk assessment."
   ]
  },
  {
   "cell_type": "code",
   "execution_count": 11,
   "metadata": {},
   "outputs": [],
   "source": [
    "inspections = inspections.sort_values('risk', ascending=False).drop_duplicates('ID').sort_index()"
   ]
  },
  {
   "cell_type": "markdown",
   "metadata": {},
   "source": [
    "Taking a look at the unique values of this dataset."
   ]
  },
  {
   "cell_type": "code",
   "execution_count": 12,
   "metadata": {},
   "outputs": [
    {
     "data": {
      "text/plain": [
       "3    4720\n",
       "0    2757\n",
       "2    1878\n",
       "4    1018\n",
       "1     323\n",
       "Name: risk, dtype: int64"
      ]
     },
     "execution_count": 12,
     "metadata": {},
     "output_type": "execute_result"
    }
   ],
   "source": [
    "inspections['risk'].value_counts()"
   ]
  },
  {
   "cell_type": "code",
   "execution_count": 13,
   "metadata": {},
   "outputs": [],
   "source": [
    "inspections.to_csv(path_or_buf='inspections_prepared.csv')"
   ]
  },
  {
   "cell_type": "code",
   "execution_count": null,
   "metadata": {},
   "outputs": [],
   "source": []
  }
 ],
 "metadata": {
  "kernelspec": {
   "display_name": "Python 3",
   "language": "python",
   "name": "python3"
  },
  "language_info": {
   "codemirror_mode": {
    "name": "ipython",
    "version": 3
   },
   "file_extension": ".py",
   "mimetype": "text/x-python",
   "name": "python",
   "nbconvert_exporter": "python",
   "pygments_lexer": "ipython3",
   "version": "3.7.4"
  }
 },
 "nbformat": 4,
 "nbformat_minor": 2
}
