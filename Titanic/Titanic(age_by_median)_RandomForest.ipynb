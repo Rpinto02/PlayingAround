{
 "cells": [
  {
   "cell_type": "markdown",
   "metadata": {},
   "source": [
    "For detailed information about the dataset and its respective preparation and/or Principal Component Analysis please look at 'Titanic(age_by_mean)_PCA_LogisticRegression'.\n",
    "In this file I will skip each step explained in that file and will talk about only the things not covered in it."
   ]
  },
  {
   "cell_type": "code",
   "execution_count": 1,
   "metadata": {},
   "outputs": [],
   "source": [
    "import pandas as pd\n",
    "import seaborn as sns\n",
    "import matplotlib.pyplot as plt\n",
    "from sklearn.model_selection import train_test_split\n",
    "import numpy as np\n",
    "from sklearn.metrics import mean_squared_error, r2_score\n",
    "from sklearn.metrics import classification_report, confusion_matrix\n",
    "df = pd.read_csv('Data/titanic_train.csv')"
   ]
  },
  {
   "cell_type": "code",
   "execution_count": 2,
   "metadata": {},
   "outputs": [],
   "source": [
    "df = df.drop(['Name','Ticket','Cabin'], axis=1)"
   ]
  },
  {
   "cell_type": "code",
   "execution_count": 3,
   "metadata": {},
   "outputs": [
    {
     "data": {
      "text/plain": [
       "28.0"
      ]
     },
     "execution_count": 3,
     "metadata": {},
     "output_type": "execute_result"
    }
   ],
   "source": [
    "df.loc[:,\"Age\"].median()\n"
   ]
  },
  {
   "cell_type": "code",
   "execution_count": 4,
   "metadata": {},
   "outputs": [],
   "source": [
    "df[\"Age\"].fillna(28, inplace = True)"
   ]
  },
  {
   "cell_type": "code",
   "execution_count": 5,
   "metadata": {},
   "outputs": [],
   "source": [
    "df.dropna(inplace=True)"
   ]
  },
  {
   "cell_type": "code",
   "execution_count": 6,
   "metadata": {},
   "outputs": [],
   "source": [
    "df = pd.get_dummies(df, columns=['Sex'], drop_first=True)"
   ]
  },
  {
   "cell_type": "code",
   "execution_count": 7,
   "metadata": {},
   "outputs": [],
   "source": [
    "df = pd.get_dummies(df, columns=['Embarked'], drop_first=True)"
   ]
  },
  {
   "cell_type": "code",
   "execution_count": 8,
   "metadata": {},
   "outputs": [],
   "source": [
    "X=df.drop('Survived',axis=1)\n",
    "X_renamed = X.rename(columns={'SibSp': 'Num Siblings/Spoused','Parch':'Num Parents/Children'})\n",
    "y=df['Survived']\n",
    "X_train, X_test, y_train, y_test = train_test_split(X_renamed, y, test_size=0.3,random_state=2)"
   ]
  },
  {
   "cell_type": "markdown",
   "metadata": {},
   "source": [
    "I will import the random forest regressor library and try to find out which hyperparameters suit our dataset best."
   ]
  },
  {
   "cell_type": "code",
   "execution_count": 9,
   "metadata": {},
   "outputs": [
    {
     "data": {
      "text/plain": [
       "[0.3141224984839296,\n",
       " 0.33824802910855056,\n",
       " 0.33520760056599963,\n",
       " 0.3397862340812614,\n",
       " 0.36054714372346874,\n",
       " 0.3699116636345259,\n",
       " 0.3729014244873208,\n",
       " 0.37471967859308675,\n",
       " 0.3780014823798935,\n",
       " 0.3853591995148574,\n",
       " 0.3864843706929819,\n",
       " 0.3903446027895694,\n",
       " 0.3920301132836469,\n",
       " 0.39031238474771357,\n",
       " 0.39309736001617135,\n",
       " 0.3972336359157066,\n",
       " 0.39885235258445406,\n",
       " 0.3983269770680322,\n",
       " 0.3985217129831058,\n",
       " 0.40074610673135236,\n",
       " 0.4051642595182403,\n",
       " 0.40643486911677007,\n",
       " 0.40722590881109144,\n",
       " 0.40670377248837675,\n",
       " 0.40538112310491214,\n",
       " 0.4056722812104163,\n",
       " 0.40519631551233193,\n",
       " 0.40497324599943063,\n",
       " 0.4024621905395769,\n",
       " 0.40273389933292914,\n",
       " 0.4012055059383891,\n",
       " 0.4027773721763189,\n",
       " 0.4041081212923101,\n",
       " 0.4044583547541657,\n",
       " 0.4052212423113576,\n",
       " 0.4045787458167689,\n",
       " 0.404870382519277,\n",
       " 0.4033922094982437,\n",
       " 0.40375706991147586]"
      ]
     },
     "execution_count": 9,
     "metadata": {},
     "output_type": "execute_result"
    }
   ],
   "source": [
    "from sklearn import ensemble\n",
    "\n",
    "variance_score = []\n",
    "for i in range(5,200,5):\n",
    "    RFR = ensemble.RandomForestRegressor ( n_estimators=i, random_state=2 )\n",
    "    RFR.fit(X_train, y_train)\n",
    "    prediction_RFR = RFR.predict(X_test)\n",
    "    variance_score.append(r2_score(y_test, prediction_RFR))\n",
    "\n",
    "variance_score"
   ]
  },
  {
   "cell_type": "code",
   "execution_count": 10,
   "metadata": {},
   "outputs": [
    {
     "name": "stdout",
     "output_type": "stream",
     "text": [
      "The maximum variance score is: 0.40722590881109144 .\n",
      "The number of estimators to be used is:  110 .\n"
     ]
    }
   ],
   "source": [
    "print('The maximum variance score is:',max(variance_score),'.')\n",
    "index = variance_score.index(max(variance_score))\n",
    "estimators = index*5\n",
    "print('The number of estimators to be used is: ',estimators,'.')"
   ]
  },
  {
   "cell_type": "code",
   "execution_count": 15,
   "metadata": {},
   "outputs": [
    {
     "name": "stdout",
     "output_type": "stream",
     "text": [
      "Variance score: 0.4064\n"
     ]
    }
   ],
   "source": [
    "RFR = ensemble.RandomForestRegressor ( n_estimators=estimators, random_state=2 )\n",
    "RFR.fit(X_train, y_train)\n",
    "prediction_RFR = RFR.predict(X_test)\n",
    "\n",
    "\n",
    "print('Variance score: %.4f' % r2_score(y_test, prediction_RFR))\n"
   ]
  },
  {
   "cell_type": "markdown",
   "metadata": {},
   "source": [
    "Since this is a regression the values are non binary so I will transform those into binary values so I can visualize the confusion matrix."
   ]
  },
  {
   "cell_type": "code",
   "execution_count": 12,
   "metadata": {},
   "outputs": [
    {
     "data": {
      "text/plain": [
       "array([0., 0., 1., 0., 0., 0., 0., 0., 0., 0., 1., 0., 1., 1., 0., 1., 1.,\n",
       "       0., 0., 0., 1., 0., 1., 0., 0., 0., 0., 0., 1., 1., 0., 0., 0., 1.,\n",
       "       0., 1., 1., 1., 0., 0., 0., 1., 0., 0., 0., 1., 1., 0., 0., 1., 1.,\n",
       "       0., 0., 0., 0., 0., 0., 0., 0., 1., 1., 1., 0., 0., 0., 0., 1., 0.,\n",
       "       1., 1., 0., 0., 0., 0., 1., 0., 1., 1., 0., 0., 0., 0., 0., 1., 1.,\n",
       "       0., 1., 0., 0., 0., 1., 0., 0., 0., 0., 0., 1., 1., 0., 0., 1., 1.,\n",
       "       0., 1., 0., 1., 1., 1., 0., 0., 1., 0., 0., 0., 1., 0., 0., 1., 1.,\n",
       "       0., 0., 0., 0., 0., 0., 0., 1., 0., 0., 0., 0., 0., 0., 1., 0., 0.,\n",
       "       0., 1., 0., 0., 0., 1., 0., 0., 1., 1., 0., 0., 0., 0., 0., 1., 0.,\n",
       "       1., 1., 0., 1., 0., 1., 1., 0., 1., 1., 0., 0., 0., 0., 0., 1., 0.,\n",
       "       0., 1., 1., 1., 0., 0., 0., 0., 0., 0., 0., 0., 1., 0., 0., 0., 1.,\n",
       "       1., 1., 1., 1., 0., 0., 0., 0., 0., 0., 0., 0., 0., 0., 1., 0., 0.,\n",
       "       0., 0., 0., 0., 0., 0., 0., 0., 0., 1., 1., 0., 0., 0., 0., 0., 0.,\n",
       "       0., 0., 0., 0., 0., 0., 0., 1., 0., 0., 0., 0., 1., 0., 1., 0., 1.,\n",
       "       0., 1., 0., 0., 0., 0., 1., 0., 1., 0., 1., 1., 0., 0., 0., 1., 0.,\n",
       "       0., 0., 0., 1., 1., 1., 0., 0., 1., 0., 0., 0.])"
      ]
     },
     "execution_count": 12,
     "metadata": {},
     "output_type": "execute_result"
    }
   ],
   "source": [
    "for i in range(0,len(prediction_RFR)):\n",
    "    if prediction_RFR[i]==0:\n",
    "        prediction_RFR[i]= prediction_RFR[i]\n",
    "    elif prediction_RFR[i] == 1:\n",
    "       prediction_RFR[i]= prediction_RFR[i]\n",
    "    elif prediction_RFR[i]> 0.5:\n",
    "        prediction_RFR[i]=1\n",
    "    else:\n",
    "        prediction_RFR[i]=0\n",
    "         \n",
    "prediction_RFR"
   ]
  },
  {
   "cell_type": "code",
   "execution_count": 13,
   "metadata": {},
   "outputs": [
    {
     "name": "stdout",
     "output_type": "stream",
     "text": [
      "              precision    recall  f1-score   support\n",
      "\n",
      "           0       0.83      0.89      0.86       170\n",
      "           1       0.78      0.68      0.73        97\n",
      "\n",
      "    accuracy                           0.81       267\n",
      "   macro avg       0.80      0.78      0.79       267\n",
      "weighted avg       0.81      0.81      0.81       267\n",
      "\n"
     ]
    },
    {
     "data": {
      "image/png": "[encoded data removed]",
      "text/plain": [
       "<Figure size 432x288 with 1 Axes>"
      ]
     },
     "metadata": {
      "needs_background": "light"
     },
     "output_type": "display_data"
    }
   ],
   "source": [
    "cfm = confusion_matrix(y_test,prediction_RFR)\n",
    "sns.heatmap(cfm, cbar=False, annot=True, cmap='Blues', fmt='d')\n",
    "print(classification_report(y_test, prediction_RFR))"
   ]
  },
  {
   "cell_type": "code",
   "execution_count": 14,
   "metadata": {},
   "outputs": [
    {
     "data": {
      "text/plain": [
       "91.8"
      ]
     },
     "execution_count": 14,
     "metadata": {},
     "output_type": "execute_result"
    }
   ],
   "source": [
    "Score = round(RFR.score(X_train, y_train) * 100, 2)\n",
    "Score"
   ]
  },
  {
   "cell_type": "code",
   "execution_count": null,
   "metadata": {},
   "outputs": [],
   "source": []
  }
 ],
 "metadata": {
  "kernelspec": {
   "display_name": "Python 3",
   "language": "python",
   "name": "python3"
  },
  "language_info": {
   "codemirror_mode": {
    "name": "ipython",
    "version": 3
   },
   "file_extension": ".py",
   "mimetype": "text/x-python",
   "name": "python",
   "nbconvert_exporter": "python",
   "pygments_lexer": "ipython3",
   "version": "3.7.4"
  }
 },
 "nbformat": 4,
 "nbformat_minor": 2
}
